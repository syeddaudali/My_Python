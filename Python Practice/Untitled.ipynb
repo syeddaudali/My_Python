{
 "cells": [
  {
   "cell_type": "code",
   "execution_count": 39,
   "id": "99ea5c0a",
   "metadata": {},
   "outputs": [
    {
     "name": "stdout",
     "output_type": "stream",
     "text": [
      "\n"
     ]
    }
   ],
   "source": [
    "# Output ways\n",
    "\n",
    "display()\n",
    "print()"
   ]
  },
  {
   "cell_type": "code",
   "execution_count": 48,
   "id": "750b3290",
   "metadata": {},
   "outputs": [
    {
     "name": "stdout",
     "output_type": "stream",
     "text": [
      "Syed Daud Ali\n",
      "Syeddaudali\n",
      "Yes!\n",
      "\n",
      "No!\n",
      "786\n",
      "65.55\n"
     ]
    }
   ],
   "source": [
    "# String and No. print\n",
    "\n",
    "#    '' and \"\" will be consider same but ''' ''' , \"\"\" \"\"\" for multi line comments\n",
    "\n",
    "print('Syed Daud Ali')\n",
    "print(\"Syeddaudali\")\n",
    "print('''Yes!\n",
    "\n",
    "No!''')\n",
    "\n",
    "\n",
    "print(786)\n",
    "print(65.55)"
   ]
  },
  {
   "cell_type": "code",
   "execution_count": 49,
   "id": "df88dd9e",
   "metadata": {},
   "outputs": [
    {
     "name": "stdout",
     "output_type": "stream",
     "text": [
      "Python 3.8.8\n"
     ]
    }
   ],
   "source": [
    "# Versoion\n",
    "\n",
    "!python --version"
   ]
  },
  {
   "cell_type": "code",
   "execution_count": 50,
   "id": "e5b936f4",
   "metadata": {},
   "outputs": [
    {
     "name": "stdout",
     "output_type": "stream",
     "text": [
      "\n"
     ]
    }
   ],
   "source": [
    "# Comments\n",
    "\n",
    "\n",
    "\"\"\" jay shah \"\"\"\n",
    "\n",
    "\n",
    "'''sdf'''\n",
    "print()"
   ]
  },
  {
   "cell_type": "code",
   "execution_count": 51,
   "id": "936f396a",
   "metadata": {},
   "outputs": [
    {
     "name": "stdout",
     "output_type": "stream",
     "text": [
      "6\n"
     ]
    },
    {
     "data": {
      "text/plain": [
       "4.5"
      ]
     },
     "metadata": {},
     "output_type": "display_data"
    },
    {
     "name": "stdout",
     "output_type": "stream",
     "text": [
      "Daud King\n"
     ]
    }
   ],
   "source": [
    "# Variable storing data\n",
    "\n",
    "x=6\n",
    "y=4.5\n",
    "z=\"Daud King\"\n",
    "\n",
    "print(x)\n",
    "display(y)\n",
    "print(z)"
   ]
  },
  {
   "cell_type": "code",
   "execution_count": 53,
   "id": "cf1bb977",
   "metadata": {},
   "outputs": [
    {
     "data": {
      "text/plain": [
       "5"
      ]
     },
     "metadata": {},
     "output_type": "display_data"
    },
    {
     "data": {
      "text/plain": [
       "6"
      ]
     },
     "metadata": {},
     "output_type": "display_data"
    }
   ],
   "source": [
    "# Case Sensitive\n",
    "\n",
    "a=5\n",
    "A=6\n",
    "display(a)\n",
    "display(A)"
   ]
  },
  {
   "cell_type": "code",
   "execution_count": 59,
   "id": "09f0f1ce",
   "metadata": {},
   "outputs": [
    {
     "name": "stdout",
     "output_type": "stream",
     "text": [
      "\n"
     ]
    }
   ],
   "source": [
    "# varible assigning rules: 0-9 , a-z , _\n",
    "\n",
    "#correct ways\n",
    "rohit = 4\n",
    "_rohit = 5\n",
    "_45 = 4\n",
    "\n",
    "#wrong ways\n",
    "\n",
    "'''\n",
    "2gy = 6\n",
    "rohit _ = 6\n",
    "'''\n",
    "print()"
   ]
  },
  {
   "cell_type": "code",
   "execution_count": 71,
   "id": "4d8cb72f",
   "metadata": {},
   "outputs": [
    {
     "name": "stdout",
     "output_type": "stream",
     "text": [
      "syed Ali\n",
      "King\n",
      "apple banana cherry\n"
     ]
    }
   ],
   "source": [
    "# Multiple Values to Mutiple Varibles\n",
    "\n",
    "x,y,z = \"syed\" , \"Daud\" , \" Ali\"\n",
    "\n",
    "print(x+z)\n",
    "\n",
    "# Mutiple Values to Single Varible\n",
    "\n",
    "x=y=z= \"King\"\n",
    "print(y)\n",
    "\n",
    "#Unpack a Collection\n",
    "fruits = [\"apple\", \"banana\", \"cherry\"]\n",
    "x, y, z = fruits\n",
    "print(x,y,z)\n"
   ]
  },
  {
   "cell_type": "code",
   "execution_count": 112,
   "id": "5c128be0",
   "metadata": {},
   "outputs": [
    {
     "name": "stdout",
     "output_type": "stream",
     "text": [
      "using global variable:  Orange and Mangoes\n",
      "It is a local variable 899\n",
      "using within function:  677\n",
      "using without function:  677\n"
     ]
    }
   ],
   "source": [
    "# Global Varibles \n",
    "\n",
    "fruit=\"Orange and Mangoes\"\n",
    "\n",
    "def abc():\n",
    "    print(\"using global variable: \",fruit)\n",
    "    \n",
    "abc() \n",
    "\n",
    "#-------------------------------------------------\n",
    "\n",
    "# Local Varible\n",
    "\n",
    "def abc1():\n",
    "    x1 = \"899\"\n",
    "    print(\"It is a local variable\",x1)  \n",
    "abc1()\n",
    "\n",
    "#-----------------------------------------------------\n",
    "\n",
    "# global Keyword\n",
    "\n",
    "def abc2():\n",
    "    global yy\n",
    "    yy = 677\n",
    "    print(\"using within function: \",yy) \n",
    "    \n",
    "abc2()\n",
    "\n",
    "print(\"using without function: \",yy)"
   ]
  },
  {
   "cell_type": "code",
   "execution_count": 133,
   "id": "a86e261a",
   "metadata": {},
   "outputs": [],
   "source": [
    "# Data Types\n",
    "\n",
    "#Variables can store data of different types, and different types can do different things\n",
    "\n",
    "#str\n",
    "a=\"syed\"\n",
    "\n",
    "#int\n",
    "b=5\n",
    "\n",
    "#float\n",
    "c=6.5\n",
    "\n",
    "#complex\n",
    "d=5j+4+c\n",
    "\n",
    "#list\n",
    "e=[\"A\",45,5j+6]\n",
    "\n",
    "#tuple\n",
    "f=(\"B\",54,7.8,4j)\n",
    "\n",
    "#dictionary\n",
    "g={\"a\":4,\"b\":6}\n",
    "\n",
    "#set\n",
    "h={\"Daud\",56,5.77}\n",
    "\n",
    "#range\n",
    "g=range(8)\n",
    "\n"
   ]
  },
  {
   "cell_type": "code",
   "execution_count": 146,
   "id": "37a3d318",
   "metadata": {},
   "outputs": [
    {
     "name": "stdout",
     "output_type": "stream",
     "text": [
      "4 6.6 400.0\n"
     ]
    },
    {
     "data": {
      "text/plain": [
       "5"
      ]
     },
     "execution_count": 146,
     "metadata": {},
     "output_type": "execute_result"
    }
   ],
   "source": [
    "# Numbers\n",
    "\n",
    "a=4\n",
    "b=6.6\n",
    "c=4e2 # 4 X 10X 10\n",
    "print(a,b,c)\n",
    "\n",
    "# random number\n",
    "\n",
    "import random\n",
    "g=random.randint(3,6)\n",
    "g"
   ]
  },
  {
   "cell_type": "code",
   "execution_count": 52,
   "id": "91d06307",
   "metadata": {},
   "outputs": [
    {
     "name": "stdout",
     "output_type": "stream",
     "text": [
      "<class 'int'>\n",
      "<class 'float'>\n",
      "6\n",
      "36.0\n",
      "3\n"
     ]
    }
   ],
   "source": [
    "# Type casting\n",
    "\n",
    "x = 6\n",
    "y = 36\n",
    "z = 3.6\n",
    "a = 234\n",
    "\n",
    "print(type(x))\n",
    "print(type(z))\n",
    "\n",
    "print(str(x))\n",
    "print(float(y))\n",
    "print(int(z))\n",
    "\n"
   ]
  },
  {
   "cell_type": "code",
   "execution_count": 164,
   "id": "716fdc20",
   "metadata": {},
   "outputs": [
    {
     "data": {
      "text/plain": [
       "'Twinkle'"
      ]
     },
     "metadata": {},
     "output_type": "display_data"
    },
    {
     "name": "stdout",
     "output_type": "stream",
     "text": [
      "A\n",
      "l\n",
      "i\n"
     ]
    },
    {
     "data": {
      "text/plain": [
       "172"
      ]
     },
     "metadata": {},
     "output_type": "display_data"
    },
    {
     "name": "stdout",
     "output_type": "stream",
     "text": [
      "yes\n"
     ]
    }
   ],
   "source": [
    "# String\n",
    "\n",
    "a = \"Ali\"\n",
    "b = '''Twinkle, twinkle, little star,\n",
    "How I wonder what you are!\n",
    "Up above the world so high,\n",
    "Like a diamond in the sky.\n",
    "\n",
    "Twinkle, twinkle, little star,\n",
    "How I wonder what you are! '''\n",
    "\n",
    "#Strings are Arrays\n",
    "display(b[0:7])\n",
    "\n",
    "#Looping Through a String\n",
    "for x in a:\n",
    "    print(x)\n",
    "\n",
    "#String Length\n",
    "display(len(b))\n",
    "\n",
    "#check string\n",
    "if \"I\" in b:\n",
    "    print(\"yes\")\n",
    "    \n"
   ]
  },
  {
   "cell_type": "code",
   "execution_count": 177,
   "id": "b8a7c44d",
   "metadata": {},
   "outputs": [
    {
     "data": {
      "text/plain": [
       "'syeddaudali'"
      ]
     },
     "metadata": {},
     "output_type": "display_data"
    },
    {
     "data": {
      "text/plain": [
       "'syedd'"
      ]
     },
     "metadata": {},
     "output_type": "display_data"
    },
    {
     "data": {
      "text/plain": [
       "'daud'"
      ]
     },
     "metadata": {},
     "output_type": "display_data"
    },
    {
     "data": {
      "text/plain": [
       "'udali'"
      ]
     },
     "metadata": {},
     "output_type": "display_data"
    }
   ],
   "source": [
    "#slicing\n",
    "\n",
    "a = \"syeddaudali\"\n",
    "b = '''Twinkle, twinkle, little star,\n",
    "How I wonder what you are!\n",
    "Up above the world so high,\n",
    "Like a diamond in the sky.\n",
    "\n",
    "Twinkle, twinkle, little star,\n",
    "How I wonder what you are! '''\n",
    "\n",
    "display(a[:])\n",
    "display(a[:5])\n",
    "display(a[4:8])\n",
    "display(a[6:])"
   ]
  },
  {
   "cell_type": "code",
   "execution_count": 199,
   "id": "cd7c8acd",
   "metadata": {},
   "outputs": [
    {
     "data": {
      "text/plain": [
       "' SYEDDAUDALI '"
      ]
     },
     "metadata": {},
     "output_type": "display_data"
    },
    {
     "data": {
      "text/plain": [
       "' syeddaudali '"
      ]
     },
     "metadata": {},
     "output_type": "display_data"
    },
    {
     "data": {
      "text/plain": [
       "'syedDAUDali'"
      ]
     },
     "metadata": {},
     "output_type": "display_data"
    },
    {
     "data": {
      "text/plain": [
       "'Syed Shahzada Daud Shahzada King Shahzada'"
      ]
     },
     "metadata": {},
     "output_type": "display_data"
    },
    {
     "data": {
      "text/plain": [
       "['Syed ', ' Daud ', ' King ', '']"
      ]
     },
     "metadata": {},
     "output_type": "display_data"
    },
    {
     "data": {
      "text/plain": [
       "' syedDAUDali Syed Ali Daud Ali King Ali'"
      ]
     },
     "metadata": {},
     "output_type": "display_data"
    },
    {
     "name": "stdout",
     "output_type": "stream",
     "text": [
      "The sum of 4 and 6 is:  10\n"
     ]
    }
   ],
   "source": [
    "# Modify Strings\n",
    "\n",
    "a = \" syedDAUDali \"\n",
    "\n",
    "#Upper Case\n",
    "display(a.upper())\n",
    "\n",
    "#Lower Case\n",
    "display(a.lower())\n",
    "\n",
    "#Remove Whitespace --- from begining and end\n",
    "display(a.strip())\n",
    "\n",
    "#Replace String\n",
    "b = \"Syed Ali Daud Ali King Ali\"\n",
    "display(b.replace(\"Ali\",\"Shahzada\"))\n",
    "\n",
    "#split String\n",
    "display(b.split(\"Ali\"))\n",
    "\n",
    "#concatenation\n",
    "display(a+b)\n",
    "\n",
    "# Output Varible \n",
    "a,b=4,6\n",
    "print(f\"The sum of {a} and {b} is: \",a+b)"
   ]
  },
  {
   "cell_type": "code",
   "execution_count": 222,
   "id": "2a31e237",
   "metadata": {},
   "outputs": [
    {
     "name": "stdout",
     "output_type": "stream",
     "text": [
      "Ali \t syed \n",
      " high \\ yellow 'ghj' \n"
     ]
    }
   ],
   "source": [
    "#Escape Characters \\t , \\n , \\\\=\\ , \\'= '\n",
    "\n",
    "print('Ali \\t syed \\n high \\\\ yellow \\'ghj\\' ')"
   ]
  },
  {
   "cell_type": "code",
   "execution_count": null,
   "id": "bc8ff3f7",
   "metadata": {},
   "outputs": [],
   "source": []
  }
 ],
 "metadata": {
  "kernelspec": {
   "display_name": "Python 3",
   "language": "python",
   "name": "python3"
  },
  "language_info": {
   "codemirror_mode": {
    "name": "ipython",
    "version": 3
   },
   "file_extension": ".py",
   "mimetype": "text/x-python",
   "name": "python",
   "nbconvert_exporter": "python",
   "pygments_lexer": "ipython3",
   "version": "3.8.8"
  }
 },
 "nbformat": 4,
 "nbformat_minor": 5
}
