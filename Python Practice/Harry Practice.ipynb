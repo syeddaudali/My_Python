{
 "cells": [
  {
   "cell_type": "code",
   "execution_count": 5,
   "id": "3316d62e",
   "metadata": {},
   "outputs": [
    {
     "data": {
      "text/plain": [
       "['.ipynb_checkpoints', 'Harry Practice.ipynb', 'Untitled.ipynb']"
      ]
     },
     "execution_count": 5,
     "metadata": {},
     "output_type": "execute_result"
    }
   ],
   "source": [
    "# Chap_1 \n",
    "\n",
    "import os\n",
    "os.listdir()"
   ]
  },
  {
   "cell_type": "code",
   "execution_count": null,
   "id": "38502176",
   "metadata": {},
   "outputs": [],
   "source": []
  },
  {
   "cell_type": "code",
   "execution_count": 8,
   "id": "24a8ba0c",
   "metadata": {},
   "outputs": [
    {
     "name": "stdout",
     "output_type": "stream",
     "text": [
      "Enter a first no: 2\n",
      "Enter a Second no: 22\n",
      "The addition of 2 and 22 is:  24\n"
     ]
    }
   ],
   "source": [
    "# Chap_2\n",
    "\n",
    "# 1\n",
    "\n",
    "first_no=int(input(\"Enter a first no: \"))\n",
    "second_no=int(input(\"Enter a Second no: \"))\n",
    "\n",
    "add=first_no+second_no\n",
    "\n",
    "print(f\"The addition of {first_no} and {second_no} is: \",add)"
   ]
  },
  {
   "cell_type": "code",
   "execution_count": 11,
   "id": "d9bca0ec",
   "metadata": {},
   "outputs": [
    {
     "name": "stdout",
     "output_type": "stream",
     "text": [
      "Enter a first no: 3\n",
      "Enter a Second no: 2\n",
      "When we devide 3 by 2 then, remainder is:  1\n"
     ]
    }
   ],
   "source": [
    "# Chap_2\n",
    "\n",
    "# 2\n",
    "\n",
    "first_no=int(input(\"Enter a first no: \"))\n",
    "second_no=int(input(\"Enter a Second no: \"))\n",
    "\n",
    "rem=first_no%second_no\n",
    "\n",
    "print(f\"When we devide {first_no} by {second_no} then, remainder is: \",rem)"
   ]
  },
  {
   "cell_type": "code",
   "execution_count": 15,
   "id": "bbaab1ad",
   "metadata": {},
   "outputs": [
    {
     "name": "stdout",
     "output_type": "stream",
     "text": [
      "Enter a number: syed Daud Ali\n",
      "The type of syed Daud Ali is:  <class 'str'>\n"
     ]
    }
   ],
   "source": [
    "# Chap_2\n",
    "\n",
    "# 3\n",
    "\n",
    "user = (input(\"Enter a number: \"))\n",
    "\n",
    "print(f\"The type of {user} is: \", type(user))"
   ]
  },
  {
   "cell_type": "code",
   "execution_count": 18,
   "id": "6fe561a5",
   "metadata": {},
   "outputs": [
    {
     "name": "stdout",
     "output_type": "stream",
     "text": [
      "Enter a first no: 3\n",
      "Enter a Second no: 3\n",
      "3 is equal to 3\n"
     ]
    }
   ],
   "source": [
    "# Chap_2\n",
    "\n",
    "# 4\n",
    "\n",
    "first_no=int(input(\"Enter a first no: \"))\n",
    "second_no=int(input(\"Enter a Second no: \"))\n",
    "\n",
    "if first_no==second_no:\n",
    "    print(f\"{first_no} is equal to {second_no}\")\n",
    "elif first_no > second_no:\n",
    "    print(f\"{first_no} is greater than {second_no}\")\n",
    "else:\n",
    "    print(f\"{second_no} is greater than {first_no}\")"
   ]
  },
  {
   "cell_type": "code",
   "execution_count": 22,
   "id": "86874933",
   "metadata": {},
   "outputs": [
    {
     "name": "stdout",
     "output_type": "stream",
     "text": [
      "Enter a first no: 9\n",
      "The square of 9 is:  81\n"
     ]
    }
   ],
   "source": [
    "# Chap_2\n",
    "\n",
    "# 5\n",
    "\n",
    "first_no=int(input(\"Enter a first no: \"))\n",
    "\n",
    "print(f\"The square of {first_no} is: \",first_no**2)"
   ]
  },
  {
   "cell_type": "code",
   "execution_count": 25,
   "id": "9e3f57d3",
   "metadata": {},
   "outputs": [
    {
     "name": "stdout",
     "output_type": "stream",
     "text": [
      "Enter a first no: 2\n",
      "Enter a Second no: 2\n",
      "The average of 2 and 2 is:  2.0\n"
     ]
    }
   ],
   "source": [
    "# Chap_2\n",
    "\n",
    "# 6\n",
    "\n",
    "first_no=int(input(\"Enter a first no: \"))\n",
    "second_no=int(input(\"Enter a Second no: \"))\n",
    "\n",
    "print(f\"The average of {first_no} and {second_no} is: \",(first_no+second_no)/2)"
   ]
  },
  {
   "cell_type": "code",
   "execution_count": null,
   "id": "74e00e87",
   "metadata": {},
   "outputs": [],
   "source": []
  },
  {
   "cell_type": "code",
   "execution_count": 26,
   "id": "fbe6efbf",
   "metadata": {},
   "outputs": [
    {
     "name": "stdout",
     "output_type": "stream",
     "text": [
      "Enter a name: Syed Daud Ali\n",
      "Good Morning:  Syed Daud Ali\n"
     ]
    }
   ],
   "source": [
    "# Chap_3\n",
    "\n",
    "# 1\n",
    "\n",
    "user=input(\"Enter a name: \")\n",
    "\n",
    "print(\"Good Morning: \",user)"
   ]
  },
  {
   "cell_type": "code",
   "execution_count": 32,
   "id": "3da597db",
   "metadata": {},
   "outputs": [
    {
     "name": "stdout",
     "output_type": "stream",
     "text": [
      "Enter Your name: Syed DAud ALi\n",
      "Enter Date: 12/23/2024\n",
      "Dear Syed DAud ALi,\n",
      "Greetings from ABC coding house. I am happy to tell you about your selection\n",
      "You are selected!\n",
      "Have a great day ahead!\n",
      "Thanks and regards,\n",
      "Bill\n",
      "Date: Syed DAud ALi\n",
      "\n"
     ]
    }
   ],
   "source": [
    "# Chap_3\n",
    "\n",
    "# 2\n",
    "\n",
    "letter = '''Dear <|NAME|>,\n",
    "Greetings from ABC coding house. I am happy to tell you about your selection\n",
    "You are selected!\n",
    "Have a great day ahead!\n",
    "Thanks and regards,\n",
    "Bill\n",
    "Date: <|DATE|>d\n",
    "'''\n",
    "\n",
    "user=input(\"Enter Your name: \")\n",
    "user1=input(\"Enter Date: \")\n",
    "\n",
    "letter=letter.replace(\"<|NAME|>\",user)\n",
    "letter=letter.replace(\"<|DATE|>d\",user)\n",
    "\n",
    "print(letter)"
   ]
  },
  {
   "cell_type": "code",
   "execution_count": 35,
   "id": "0f461268",
   "metadata": {},
   "outputs": [
    {
     "name": "stdout",
     "output_type": "stream",
     "text": [
      "Enter String: ds\n",
      "Double space are not there\n"
     ]
    }
   ],
   "source": [
    "# Chap_3\n",
    "\n",
    "# 3\n",
    "\n",
    "user=input(\"Enter String: \")\n",
    "\n",
    "if \"  \" in user:\n",
    "    print(\"Double Space is present in string\")\n",
    "else:\n",
    "    print(\"Double space are not there\")"
   ]
  },
  {
   "cell_type": "code",
   "execution_count": 40,
   "id": "46895df4",
   "metadata": {},
   "outputs": [
    {
     "name": "stdout",
     "output_type": "stream",
     "text": [
      "Enter String: asdf  asdf asdf\n",
      "Double Spaces has been removed:  asdf asdf asdf\n"
     ]
    }
   ],
   "source": [
    "# Chap_3\n",
    "\n",
    "# 4\n",
    "\n",
    "\n",
    "user=input(\"Enter String: \")\n",
    "\n",
    "if \"  \" in user:\n",
    "    user=user.replace(\"  \",\" \")\n",
    "    print(\"Double Spaces has been removed: \",user)\n",
    "else:\n",
    "    print(\"There are no double spaces in the string!\",user)"
   ]
  },
  {
   "cell_type": "code",
   "execution_count": 44,
   "id": "19512bae",
   "metadata": {},
   "outputs": [
    {
     "name": "stdout",
     "output_type": "stream",
     "text": [
      "Dear Harry, \n",
      " \tThis Python course is nice! \n",
      "Thanks!\n"
     ]
    }
   ],
   "source": [
    "# Chap_3\n",
    "\n",
    "# 5\n",
    "\n",
    "\n",
    "letter = \"Dear Harry, \\n \\tThis Python course is nice! \\nThanks!\"\n",
    "print(letter)"
   ]
  },
  {
   "cell_type": "code",
   "execution_count": null,
   "id": "e65d1b7d",
   "metadata": {},
   "outputs": [],
   "source": []
  },
  {
   "cell_type": "code",
   "execution_count": 45,
   "id": "fd523665",
   "metadata": {},
   "outputs": [
    {
     "name": "stdout",
     "output_type": "stream",
     "text": [
      "Enter Fruit Number 1: a\n",
      "Enter Fruit Number 2: b\n",
      "Enter Fruit Number 3: c\n",
      "Enter Fruit Number 4: d\n",
      "Enter Fruit Number 5: e\n",
      "Enter Fruit Number 6: f\n",
      "Enter Fruit Number 7: g\n"
     ]
    },
    {
     "data": {
      "text/plain": [
       "['a', 'b', 'c', 'd', 'e', 'f', 'g']"
      ]
     },
     "execution_count": 45,
     "metadata": {},
     "output_type": "execute_result"
    }
   ],
   "source": [
    "# Chap_4\n",
    "\n",
    "# 1\n",
    "\n",
    "\n",
    "f1 = input(\"Enter Fruit Number 1: \")\n",
    "f2 = input(\"Enter Fruit Number 2: \")\n",
    "f3 = input(\"Enter Fruit Number 3: \")\n",
    "f4 = input(\"Enter Fruit Number 4: \")\n",
    "f5 = input(\"Enter Fruit Number 5: \")\n",
    "f6 = input(\"Enter Fruit Number 6: \")\n",
    "f7 = input(\"Enter Fruit Number 7: \")\n",
    "\n",
    "lis = [f1,f2,f3,f4,f5,f6,f7]\n",
    "lis"
   ]
  },
  {
   "cell_type": "code",
   "execution_count": 66,
   "id": "e97105b6",
   "metadata": {},
   "outputs": [
    {
     "name": "stdout",
     "output_type": "stream",
     "text": [
      "Enter Marks for Student Number 1: 4\n",
      "Enter Marks for Student Number 2: 523\n",
      "Enter Marks for Student Number 3: 45235\n",
      "Enter Marks for Student Number 4: 23\n",
      "Enter Marks for Student Number 5: 234532345\n",
      "Enter Marks for Student Number 6: 22\n"
     ]
    },
    {
     "data": {
      "text/plain": [
       "[4, 22, 23, 523, 45235, 234532345]"
      ]
     },
     "execution_count": 66,
     "metadata": {},
     "output_type": "execute_result"
    }
   ],
   "source": [
    "# Chap_4\n",
    "\n",
    "# 2\n",
    "\n",
    "m1 = int(input(\"Enter Marks for Student Number 1: \"))\n",
    "m2 = int(input(\"Enter Marks for Student Number 2: \"))\n",
    "m3 = int(input(\"Enter Marks for Student Number 3: \"))\n",
    "m4 = int(input(\"Enter Marks for Student Number 4: \"))\n",
    "m5 = int(input(\"Enter Marks for Student Number 5: \"))\n",
    "m6 = int(input(\"Enter Marks for Student Number 6: \"))\n",
    "\n",
    "lis=[m1,m2,m3,m4,m5,m6]\n",
    "lis.sort()\n",
    "lis"
   ]
  },
  {
   "cell_type": "code",
   "execution_count": 70,
   "id": "d80ad5d6",
   "metadata": {},
   "outputs": [
    {
     "ename": "TypeError",
     "evalue": "'tuple' object does not support item assignment",
     "output_type": "error",
     "traceback": [
      "\u001b[1;31m---------------------------------------------------------------------------\u001b[0m",
      "\u001b[1;31mTypeError\u001b[0m                                 Traceback (most recent call last)",
      "\u001b[1;32m<ipython-input-70-02a9f5c15857>\u001b[0m in \u001b[0;36m<module>\u001b[1;34m\u001b[0m\n\u001b[0;32m      4\u001b[0m \u001b[1;33m\u001b[0m\u001b[0m\n\u001b[0;32m      5\u001b[0m \u001b[0ma\u001b[0m\u001b[1;33m=\u001b[0m\u001b[1;33m(\u001b[0m\u001b[1;36m232\u001b[0m\u001b[1;33m,\u001b[0m\u001b[1;36m34\u001b[0m\u001b[1;33m,\u001b[0m\u001b[1;36m124\u001b[0m\u001b[1;33m,\u001b[0m\u001b[1;36m1\u001b[0m\u001b[1;33m)\u001b[0m\u001b[1;33m\u001b[0m\u001b[1;33m\u001b[0m\u001b[0m\n\u001b[1;32m----> 6\u001b[1;33m \u001b[0ma\u001b[0m\u001b[1;33m[\u001b[0m\u001b[1;36m0\u001b[0m\u001b[1;33m]\u001b[0m\u001b[1;33m=\u001b[0m\u001b[1;36m211\u001b[0m\u001b[1;33m\u001b[0m\u001b[1;33m\u001b[0m\u001b[0m\n\u001b[0m",
      "\u001b[1;31mTypeError\u001b[0m: 'tuple' object does not support item assignment"
     ]
    }
   ],
   "source": [
    "# Chap_4\n",
    "\n",
    "# 3\n",
    "\n",
    "a=(232,34,124,1)\n",
    "\n",
    "a[0]=211"
   ]
  },
  {
   "cell_type": "code",
   "execution_count": 74,
   "id": "8a45880f",
   "metadata": {},
   "outputs": [
    {
     "name": "stdout",
     "output_type": "stream",
     "text": [
      "Enter Marks for Student Number 1: 2\n",
      "Enter Marks for Student Number 2: 3\n",
      "Enter Marks for Student Number 3: 32\n",
      "Enter Marks for Student Number 4: 2\n",
      "39\n"
     ]
    }
   ],
   "source": [
    "# Chap_4\n",
    "\n",
    "# 5\n",
    "\n",
    "m1 = int(input(\"Enter Marks for Student Number 1: \"))\n",
    "m2 = int(input(\"Enter Marks for Student Number 2: \"))\n",
    "m3 = int(input(\"Enter Marks for Student Number 3: \"))\n",
    "m4 = int(input(\"Enter Marks for Student Number 4: \"))\n",
    "\n",
    "lis = [m1,m2,m3,m4]\n",
    "add = lis[0]+lis[1]+lis[2]+lis[3]\n",
    "print(add)"
   ]
  },
  {
   "cell_type": "code",
   "execution_count": 73,
   "id": "4ca86fdc",
   "metadata": {},
   "outputs": [
    {
     "name": "stdout",
     "output_type": "stream",
     "text": [
      "3\n"
     ]
    }
   ],
   "source": [
    "# Chap_4\n",
    "\n",
    "# 5\n",
    "\n",
    "\n",
    "a=(7,0,8,0,0,9)\n",
    "a=a.count(0)\n",
    "print(a)"
   ]
  },
  {
   "cell_type": "code",
   "execution_count": null,
   "id": "95eaf6b6",
   "metadata": {},
   "outputs": [],
   "source": []
  },
  {
   "cell_type": "code",
   "execution_count": 76,
   "id": "fbf2f6af",
   "metadata": {},
   "outputs": [
    {
     "name": "stdout",
     "output_type": "stream",
     "text": [
      "Enter a word: piyar\n",
      "The meaning of piyar is:  Love\n"
     ]
    }
   ],
   "source": [
    "# Chap_5\n",
    "\n",
    "# 1\n",
    "\n",
    "dic=({\"yakeen\":\"Trust\",\"piyar\":\"Love\",\"kam\":\"Work\"})\n",
    "\n",
    "user=input(\"Enter a word: \")\n",
    "\n",
    "mean=dic.get(user)\n",
    "\n",
    "print(f\"The meaning of {user} is: \",mean)"
   ]
  },
  {
   "cell_type": "code",
   "execution_count": 82,
   "id": "e832886b",
   "metadata": {},
   "outputs": [
    {
     "name": "stdout",
     "output_type": "stream",
     "text": [
      "Enter Fruit Number 1: 32\n",
      "Enter Fruit Number 2: 23\n",
      "Enter Fruit Number 3: 32\n",
      "Enter Fruit Number 4: 32\n",
      "Enter Fruit Number 5: 1\n",
      "Enter Fruit Number 6: 13\n",
      "Enter Fruit Number 7: 2\n",
      "{'2', '32', '23', '13', '1'}\n"
     ]
    }
   ],
   "source": [
    "# Chap_5\n",
    "\n",
    "# 2\n",
    "\n",
    "f1 = input(\"Enter Fruit Number 1: \")\n",
    "f2 = input(\"Enter Fruit Number 2: \")\n",
    "f3 = input(\"Enter Fruit Number 3: \")\n",
    "f4 = input(\"Enter Fruit Number 4: \")\n",
    "f5 = input(\"Enter Fruit Number 5: \")\n",
    "f6 = input(\"Enter Fruit Number 6: \")\n",
    "f7 = input(\"Enter Fruit Number 7: \")\n",
    "\n",
    "lis = {f1,f2,f3,f4,f5,f6,f7}\n",
    "print(lis)"
   ]
  },
  {
   "cell_type": "code",
   "execution_count": 84,
   "id": "69bca29f",
   "metadata": {},
   "outputs": [
    {
     "name": "stdout",
     "output_type": "stream",
     "text": [
      "{18, 18.1, '18'}\n"
     ]
    }
   ],
   "source": [
    "# Chap_5\n",
    "\n",
    "# 3\n",
    "\n",
    "s = {18, \"18\", 18.1}\n",
    "print(s)"
   ]
  },
  {
   "cell_type": "code",
   "execution_count": 86,
   "id": "b53517dc",
   "metadata": {},
   "outputs": [
    {
     "data": {
      "text/plain": [
       "{'20', 20, '20.0'}"
      ]
     },
     "execution_count": 86,
     "metadata": {},
     "output_type": "execute_result"
    }
   ],
   "source": [
    "# Chap_5\n",
    "\n",
    "# 4\n",
    "\n",
    "ss=set()\n",
    "ss.add(20)\n",
    "ss.add(\"20\")\n",
    "ss.add('20.0')\n",
    "ss"
   ]
  },
  {
   "cell_type": "code",
   "execution_count": 88,
   "id": "93dc85c1",
   "metadata": {},
   "outputs": [
    {
     "data": {
      "text/plain": [
       "dict"
      ]
     },
     "execution_count": 88,
     "metadata": {},
     "output_type": "execute_result"
    }
   ],
   "source": [
    "# Chap_5\n",
    "\n",
    "# 5\n",
    "\n",
    "t={}\n",
    "type(t)"
   ]
  },
  {
   "cell_type": "code",
   "execution_count": 91,
   "id": "b1f195a6",
   "metadata": {},
   "outputs": [
    {
     "name": "stdout",
     "output_type": "stream",
     "text": [
      "Enter Fruit Number 1: 2\n",
      "Enter Fruit Number 2: 2\n",
      "Enter Fruit Number 3: 4\n",
      "Enter Fruit Number 4: 1\n",
      "{'Daud': '2', 'wasif': '2', 'Tayyab': '4', 'Haider': '1'}\n"
     ]
    }
   ],
   "source": [
    "# Chap_5\n",
    "\n",
    "# 6,7\n",
    "\n",
    "f1 = input(\"Enter Fruit Number 1: \")\n",
    "f2 = input(\"Enter Fruit Number 2: \")\n",
    "f3 = input(\"Enter Fruit Number 3: \")\n",
    "f4 = input(\"Enter Fruit Number 4: \")\n",
    "\n",
    "dic={\"Daud\":f1,\"wasif\":f2,\"Tayyab\":f3,\"Haider\":f4}\n",
    "print(dic)"
   ]
  },
  {
   "cell_type": "code",
   "execution_count": 92,
   "id": "68f53247",
   "metadata": {},
   "outputs": [
    {
     "name": "stdout",
     "output_type": "stream",
     "text": [
      "Enter Fruit Number 1: 2\n",
      "Enter Fruit Number 2: 2\n",
      "Enter Fruit Number 3: 2\n",
      "Enter Fruit Number 4: 2\n",
      "{'Daud': '2', 'Tayyab': '2', 'Haider': '2'}\n"
     ]
    }
   ],
   "source": [
    "# Chap_5\n",
    "\n",
    "# 8\n",
    "\n",
    "f1 = input(\"Enter Fruit Number 1: \")\n",
    "f2 = input(\"Enter Fruit Number 2: \")\n",
    "f3 = input(\"Enter Fruit Number 3: \")\n",
    "f4 = input(\"Enter Fruit Number 4: \")\n",
    "\n",
    "dic={\"Daud\":f1,\"Daud\":f2,\"Tayyab\":f3,\"Haider\":f4}\n",
    "print(dic)"
   ]
  },
  {
   "cell_type": "code",
   "execution_count": null,
   "id": "0f095268",
   "metadata": {},
   "outputs": [],
   "source": []
  },
  {
   "cell_type": "code",
   "execution_count": 8,
   "id": "3809e700",
   "metadata": {},
   "outputs": [
    {
     "name": "stdout",
     "output_type": "stream",
     "text": [
      "Enter Fruit Number 1: 23\n",
      "Enter Fruit Number 2: 34\n",
      "Enter Fruit Number 3: 25\n",
      "Enter Fruit Number 4: 3523425\n",
      "Large no. from 1st program  34\n",
      "Large no. from 2nd program  3523425\n",
      "3523425\n"
     ]
    }
   ],
   "source": [
    "# Chap_6\n",
    "\n",
    "# 1\n",
    "\n",
    "f1 = int(input(\"Enter Fruit Number 1: \"))\n",
    "f2 = int(input(\"Enter Fruit Number 2: \"))\n",
    "f3 = int(input(\"Enter Fruit Number 3: \"))\n",
    "f4 = int(input(\"Enter Fruit Number 4: \"))\n",
    "\n",
    "if f1>f2:\n",
    "    num1=f1\n",
    "else:\n",
    "    num1=f2\n",
    "print(\"Large no. from 1st program \",num1)\n",
    "if f3>f4:\n",
    "    num2=f3\n",
    "else:\n",
    "    num2=f4\n",
    "print(\"Large no. from 2nd program \",num2)\n",
    "\n",
    "if int(num1)>int(num2):\n",
    "    print(num1)\n",
    "else:\n",
    "    print(num2)"
   ]
  },
  {
   "cell_type": "code",
   "execution_count": 20,
   "id": "c516e217",
   "metadata": {},
   "outputs": [
    {
     "name": "stdout",
     "output_type": "stream",
     "text": [
      "Enter MArks of student 1: 34\n",
      "Enter MArks of student 2: 45\n",
      "Enter MArks of student 3: 45\n",
      "Congratulations! His marks are greater than 33 in every subject and his average is also above 40%\n"
     ]
    }
   ],
   "source": [
    "# Chap_6\n",
    "\n",
    "# 2\n",
    "\n",
    "f1 = int(input(\"Enter MArks of student 1: \"))\n",
    "f2 = int(input(\"Enter MArks of student 2: \"))\n",
    "f3 = int(input(\"Enter MArks of student 3: \")) \n",
    "\n",
    "total=(f1+f2+f3)/3\n",
    "\n",
    "if (f1 or f2 or f3) <33:\n",
    "    print(\"Fail because he got less than 33 marks in one of his subject!\")\n",
    "    \n",
    "elif total<40:\n",
    "    print(\"He is Failed because his average is less than 40%\")\n",
    "    \n",
    "else:\n",
    "    print(\"Congratulations! His marks are greater than 33 in every subject and his average is also above 40%\")"
   ]
  },
  {
   "cell_type": "code",
   "execution_count": 23,
   "id": "3d2d0c6f",
   "metadata": {},
   "outputs": [
    {
     "name": "stdout",
     "output_type": "stream",
     "text": [
      "Enter a string! he says to me that make a lot of money\n",
      "That is a spam\n"
     ]
    }
   ],
   "source": [
    "# Chap_6\n",
    "\n",
    "# 3\n",
    "\n",
    "a=input(\"Enter a string! \")\n",
    "c=[\"make a lot of money\",,]\n",
    "\n",
    "if \"make a lot of money\" in a:\n",
    "    print(\"That is a spam\")\n",
    "    \n",
    "elif \"click this\" in a:\n",
    "    print(\"That is a spam\")\n",
    "    \n",
    "elif \"subscribe this\" in a:\n",
    "    print(\"That is a spam\")\n",
    "    \n",
    "else:\n",
    "    print(\"That is not a spam mail!\")"
   ]
  },
  {
   "cell_type": "code",
   "execution_count": 24,
   "id": "ba85a436",
   "metadata": {},
   "outputs": [
    {
     "name": "stdout",
     "output_type": "stream",
     "text": [
      "Enter a string! jfsdaf\n",
      "String is less than 10 characters\n"
     ]
    }
   ],
   "source": [
    "# Chap_6\n",
    "\n",
    "# 4\n",
    "\n",
    "a=input(\"Enter a string! \")\n",
    "\n",
    "if len(a)>=10:\n",
    "    print(\"String contains more than 10 characters! \")\n",
    "\n",
    "else:\n",
    "    print(\"String is less than 10 characters\")"
   ]
  },
  {
   "cell_type": "code",
   "execution_count": 37,
   "id": "149efaa2",
   "metadata": {},
   "outputs": [
    {
     "name": "stdout",
     "output_type": "stream",
     "text": [
      "Enter a string! sdfg\n",
      "That word is not present in list\n"
     ]
    }
   ],
   "source": [
    "# Chap_6\n",
    "\n",
    "# 5\n",
    "\n",
    "a=input(\"Enter a string! \")\n",
    "\n",
    "c=[\"make a lot of money\",\"click this\",\"subscribe this\"]\n",
    "\n",
    "if a in c:\n",
    "        print(\"That word is present is list!\")\n",
    "        \n",
    "else:\n",
    "        print(\"That word is not present in list\")\n",
    "        "
   ]
  },
  {
   "cell_type": "code",
   "execution_count": 42,
   "id": "a56bf64f",
   "metadata": {},
   "outputs": [
    {
     "name": "stdout",
     "output_type": "stream",
     "text": [
      "Enter a string! asddauasd\n",
      "He is not talking about Daud\n"
     ]
    }
   ],
   "source": [
    "# Chap_6\n",
    "\n",
    "# 6\n",
    "\n",
    "a=input(\"Enter a string! \")\n",
    "a=a.lower()\n",
    "if \"daud\" in a:\n",
    "    print(\"He is talking about Daud\")\n",
    "else:\n",
    "    print(\"He is not talking about Daud\")"
   ]
  },
  {
   "cell_type": "code",
   "execution_count": 45,
   "id": "934186fc",
   "metadata": {},
   "outputs": [
    {
     "name": "stdout",
     "output_type": "stream",
     "text": [
      "Enter Your Marks\n",
      "54\n",
      "Your grade is D\n"
     ]
    }
   ],
   "source": [
    "# Chap_6\n",
    "\n",
    "# 7\n",
    "\n",
    "\n",
    "marks = int(input(\"Enter Your Marks\\n\"))\n",
    "\n",
    "if marks>=90:\n",
    "    grade = \"Ex\"\n",
    "elif marks>=80:\n",
    "    grade = \"A\"\n",
    "elif marks>=70:\n",
    "    grade = \"B\"\n",
    "elif marks>=60:\n",
    "    grade = \"C\"\n",
    "    \n",
    "elif marks>=50:\n",
    "    grade = \"D\" \n",
    "else:\n",
    "    grade = \"F\"\n",
    "\n",
    "print(\"Your grade is \" + grade)"
   ]
  },
  {
   "cell_type": "code",
   "execution_count": null,
   "id": "604523aa",
   "metadata": {},
   "outputs": [],
   "source": []
  },
  {
   "cell_type": "code",
   "execution_count": 48,
   "id": "8428cc5f",
   "metadata": {},
   "outputs": [
    {
     "name": "stdout",
     "output_type": "stream",
     "text": [
      "Enter a number! 5\n",
      "5 X 1 = 5\n",
      "5 X 2 = 10\n",
      "5 X 3 = 15\n",
      "5 X 4 = 20\n",
      "5 X 5 = 25\n",
      "5 X 6 = 30\n",
      "5 X 7 = 35\n",
      "5 X 8 = 40\n",
      "5 X 9 = 45\n",
      "5 X 10 = 50\n"
     ]
    }
   ],
   "source": [
    "# Chap_7\n",
    "\n",
    "# 1\n",
    "\n",
    "a=int(input(\"Enter a number! \"))\n",
    "\n",
    "for i in range(1,11):\n",
    "    print(a,\"X\",i,\"=\",i*a)"
   ]
  },
  {
   "cell_type": "code",
   "execution_count": 50,
   "id": "927733d7",
   "metadata": {},
   "outputs": [
    {
     "name": "stdout",
     "output_type": "stream",
     "text": [
      "Enter a number! 5\n",
      "5 X 1 = 50\n",
      "5 X 2 = 50\n",
      "5 X 3 = 50\n",
      "5 X 4 = 50\n",
      "5 X 5 = 50\n",
      "5 X 6 = 50\n",
      "5 X 7 = 50\n",
      "5 X 8 = 50\n",
      "5 X 9 = 50\n",
      "5 X 10 = 50\n"
     ]
    }
   ],
   "source": [
    "# Chap_7\n",
    "\n",
    "# 2\n",
    "\n",
    "a=int(input(\"Enter a number! \"))\n",
    "b=1\n",
    "while b<=10:\n",
    "    print(a,\"X\",b,\"=\",i*a)\n",
    "    b+=1"
   ]
  },
  {
   "cell_type": "code",
   "execution_count": 51,
   "id": "45f8d1a9",
   "metadata": {},
   "outputs": [
    {
     "name": "stdout",
     "output_type": "stream",
     "text": [
      "Good Morning,  Daud\n",
      "Good Morning,  Dua\n"
     ]
    }
   ],
   "source": [
    "# Chap_7\n",
    "\n",
    "# 3\n",
    "\n",
    "a=[\"Daud\",\"King\",\"Swad\",\"Dua\"]\n",
    "\n",
    "for i in a:\n",
    "    if i.startswith(\"D\"):\n",
    "        print(\"Good Morning, \",i)"
   ]
  },
  {
   "cell_type": "code",
   "execution_count": 67,
   "id": "8aeb6412",
   "metadata": {},
   "outputs": [
    {
     "name": "stdout",
     "output_type": "stream",
     "text": [
      "1\n",
      "2\n",
      "3\n",
      "4\n",
      "5\n",
      "15\n"
     ]
    }
   ],
   "source": [
    "# Chap_7\n",
    "\n",
    "# 4\n",
    "\n",
    "'''a=0\n",
    "for i in range(1,6):\n",
    "    print(i)\n",
    "    a+=i\n",
    "    \n",
    "print(a)'''\n",
    "\n",
    "c=1\n",
    "total=0\n",
    "while c<=5:\n",
    "    print(c)\n",
    "    total+=c\n",
    "    c+=1\n",
    "   \n",
    "    \n",
    "    \n",
    "print(total)  "
   ]
  },
  {
   "cell_type": "code",
   "execution_count": 8,
   "id": "6185110b",
   "metadata": {},
   "outputs": [
    {
     "name": "stdout",
     "output_type": "stream",
     "text": [
      "Enter a no.! 5\n",
      "120\n"
     ]
    }
   ],
   "source": [
    "# Chap_7\n",
    "\n",
    "# 5\n",
    "\n",
    "u=int(input(\"Enter a no.! \"))\n",
    "fact=1\n",
    "for i in range(1,u+1):\n",
    "    fact=fact*i\n",
    "print(fact)"
   ]
  },
  {
   "cell_type": "code",
   "execution_count": 23,
   "id": "554ab62a",
   "metadata": {},
   "outputs": [
    {
     "name": "stdout",
     "output_type": "stream",
     "text": [
      "*\n",
      "**\n",
      "***\n"
     ]
    }
   ],
   "source": [
    "# Chap_7\n",
    "\n",
    "# 6\n",
    "\n",
    "for i in range(1,4):\n",
    "    print('*'*i)"
   ]
  },
  {
   "cell_type": "code",
   "execution_count": 39,
   "id": "b97330dc",
   "metadata": {},
   "outputs": [
    {
     "ename": "TypeError",
     "evalue": "unsupported operand type(s) for -: 'str' and 'int'",
     "output_type": "error",
     "traceback": [
      "\u001b[1;31m---------------------------------------------------------------------------\u001b[0m",
      "\u001b[1;31mTypeError\u001b[0m                                 Traceback (most recent call last)",
      "\u001b[1;32m<ipython-input-39-e49b36a8278d>\u001b[0m in \u001b[0;36m<module>\u001b[1;34m\u001b[0m\n\u001b[0;32m      6\u001b[0m \u001b[1;33m\u001b[0m\u001b[0m\n\u001b[0;32m      7\u001b[0m \u001b[1;32mfor\u001b[0m \u001b[0mi\u001b[0m \u001b[1;32min\u001b[0m \u001b[0mrange\u001b[0m\u001b[1;33m(\u001b[0m\u001b[1;36m1\u001b[0m\u001b[1;33m,\u001b[0m\u001b[1;36m7\u001b[0m\u001b[1;33m,\u001b[0m\u001b[1;36m2\u001b[0m\u001b[1;33m)\u001b[0m\u001b[1;33m:\u001b[0m\u001b[1;33m\u001b[0m\u001b[1;33m\u001b[0m\u001b[0m\n\u001b[1;32m----> 8\u001b[1;33m     \u001b[0mprint\u001b[0m\u001b[1;33m(\u001b[0m\u001b[1;34m'*'\u001b[0m \u001b[1;33m*\u001b[0m \u001b[0mn\u001b[0m\u001b[1;33m-\u001b[0m\u001b[0mi\u001b[0m\u001b[1;33m)\u001b[0m\u001b[1;33m\u001b[0m\u001b[1;33m\u001b[0m\u001b[0m\n\u001b[0m",
      "\u001b[1;31mTypeError\u001b[0m: unsupported operand type(s) for -: 'str' and 'int'"
     ]
    }
   ],
   "source": [
    "# Chap_7\n",
    "\n",
    "# 7\n",
    "\n",
    "n=3\n",
    "\n",
    "for i in range(1,7,2):\n",
    "    print('*' * n-i)"
   ]
  },
  {
   "cell_type": "code",
   "execution_count": 34,
   "id": "96e5b036",
   "metadata": {},
   "outputs": [
    {
     "name": "stdout",
     "output_type": "stream",
     "text": [
      "5 X 10 = 50\n",
      "5 X 9 = 45\n",
      "5 X 8 = 40\n",
      "5 X 7 = 35\n",
      "5 X 6 = 30\n",
      "5 X 5 = 25\n",
      "5 X 4 = 20\n",
      "5 X 3 = 15\n",
      "5 X 2 = 10\n",
      "5 X 1 = 5\n"
     ]
    }
   ],
   "source": [
    "# Chap_7\n",
    "\n",
    "# 8\n",
    "\n",
    "t=5\n",
    "for i in range(10,0,-1):\n",
    "    print(t,\"X\",i,\"=\",i*t)"
   ]
  },
  {
   "cell_type": "code",
   "execution_count": 48,
   "id": "ca18b5c1",
   "metadata": {},
   "outputs": [
    {
     "name": "stdout",
     "output_type": "stream",
     "text": [
      "Enter a number! 19\n",
      "Its a prime no.\n"
     ]
    }
   ],
   "source": [
    "# Chap_7\n",
    "\n",
    "# 9\n",
    "prime =True\n",
    "num=int(input(\"Enter a number! \"))\n",
    "for i in range(2,num):\n",
    "    if num%i==0:\n",
    "        prime = False\n",
    "        break\n",
    "if prime:\n",
    "    print(\"Its a prime no.\")\n",
    "else:\n",
    "    print(\"Its not a prime no.\")\n"
   ]
  },
  {
   "cell_type": "code",
   "execution_count": 54,
   "id": "a6cd5772",
   "metadata": {},
   "outputs": [
    {
     "name": "stdout",
     "output_type": "stream",
     "text": [
      "Enter a number! 9\n",
      "Its not a prime no.! \n"
     ]
    }
   ],
   "source": [
    "user=int(input(\"Enter a number! \"))\n",
    "prime=True\n",
    "for i in range(2,num):\n",
    "    \n",
    "    if user%i==0:\n",
    "        prime = False\n",
    "        break\n",
    "if prime:\n",
    "    print(\"Its a prime no\")\n",
    "else:\n",
    "    print(\"Its not a prime no.! \")"
   ]
  },
  {
   "cell_type": "code",
   "execution_count": null,
   "id": "79172c7e",
   "metadata": {},
   "outputs": [],
   "source": []
  },
  {
   "cell_type": "code",
   "execution_count": 59,
   "id": "b1d932ab",
   "metadata": {},
   "outputs": [
    {
     "name": "stdout",
     "output_type": "stream",
     "text": [
      "34 is greater\n"
     ]
    }
   ],
   "source": [
    "# Chap_8\n",
    "\n",
    "# 1\n",
    "\n",
    "def gratest(a,b,c):\n",
    "    if a > (b and c):\n",
    "        print(f\"{a} is greater\")\n",
    "\n",
    "    elif b > (a and c):\n",
    "        print(f\"{b} is greater\")\n",
    "\n",
    "    else:\n",
    "        print(f\"{c} is greater\")\n",
    "        \n",
    "gratest(34,423,1)"
   ]
  },
  {
   "cell_type": "code",
   "execution_count": 72,
   "id": "f83687ac",
   "metadata": {},
   "outputs": [
    {
     "name": "stdout",
     "output_type": "stream",
     "text": [
      "45\n"
     ]
    }
   ],
   "source": [
    "a,b,c=11,4,45\n",
    "\n",
    "if a>b:\n",
    "     a1=a\n",
    "else:\n",
    "    a1=b\n",
    "\n",
    "if a1>c:\n",
    "    print(a1)\n",
    "else:\n",
    "    print(c)"
   ]
  },
  {
   "cell_type": "code",
   "execution_count": null,
   "id": "c327c277",
   "metadata": {},
   "outputs": [],
   "source": []
  }
 ],
 "metadata": {
  "kernelspec": {
   "display_name": "Python 3",
   "language": "python",
   "name": "python3"
  },
  "language_info": {
   "codemirror_mode": {
    "name": "ipython",
    "version": 3
   },
   "file_extension": ".py",
   "mimetype": "text/x-python",
   "name": "python",
   "nbconvert_exporter": "python",
   "pygments_lexer": "ipython3",
   "version": "3.8.8"
  }
 },
 "nbformat": 4,
 "nbformat_minor": 5
}
